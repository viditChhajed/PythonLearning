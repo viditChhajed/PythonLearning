{
  "nbformat": 4,
  "nbformat_minor": 0,
  "metadata": {
    "colab": {
      "name": "Lesson One Homework",
      "provenance": []
    },
    "kernelspec": {
      "name": "python3",
      "display_name": "Python 3"
    },
    "language_info": {
      "name": "python"
    }
  },
  "cells": [
    {
      "cell_type": "code",
      "metadata": {
        "colab": {
          "base_uri": "https://localhost:8080/"
        },
        "id": "Cp95wdzyy6oq",
        "outputId": "56d35006-38e1-47a0-87fc-d51ce0ebb89c"
      },
      "source": [
        "#name,dream school,age,math grade,science grade, reading grade, email, budget,school,range from home,address\n",
        "print('Welcome to CollegeFinder. Fill out the form below and we will help you get the best colledge ever')\n",
        "name=str(input('What is your name '))"
      ],
      "execution_count": null,
      "outputs": [
        {
          "output_type": "stream",
          "text": [
            "Welcome to CollegeFinder. Fill out the form below and we will help you get the best colledge ever\n",
            "What is your name Vidit\n"
          ],
          "name": "stdout"
        }
      ]
    },
    {
      "cell_type": "code",
      "metadata": {
        "colab": {
          "base_uri": "https://localhost:8080/"
        },
        "id": "_8cTuLEi7Ey9",
        "outputId": "df70faac-4962-4854-c136-c473db34a177"
      },
      "source": [
        "dream=str(input('What is your dream college '))"
      ],
      "execution_count": null,
      "outputs": [
        {
          "output_type": "stream",
          "text": [
            "What is your dream college Princeton University\n"
          ],
          "name": "stdout"
        }
      ]
    },
    {
      "cell_type": "code",
      "metadata": {
        "colab": {
          "base_uri": "https://localhost:8080/"
        },
        "id": "Sonud3Qo7Z4C",
        "outputId": "3a92d325-feab-49a0-de3d-fe3ea8c85947"
      },
      "source": [
        "age=int(input('What is your age '))"
      ],
      "execution_count": null,
      "outputs": [
        {
          "output_type": "stream",
          "text": [
            "What is your age 10\n"
          ],
          "name": "stdout"
        }
      ]
    },
    {
      "cell_type": "code",
      "metadata": {
        "colab": {
          "base_uri": "https://localhost:8080/"
        },
        "id": "pn_FQzPB7jf4",
        "outputId": "f479122a-affc-4e5d-ac6a-b813447014b3"
      },
      "source": [
        "math=int(input('What is your math grade out of 100 '))"
      ],
      "execution_count": null,
      "outputs": [
        {
          "output_type": "stream",
          "text": [
            "What is your math grade out of 100 96\n"
          ],
          "name": "stdout"
        }
      ]
    },
    {
      "cell_type": "code",
      "metadata": {
        "colab": {
          "base_uri": "https://localhost:8080/"
        },
        "id": "Ad_vKJf872mK",
        "outputId": "4f834ab1-7ad3-456c-d78d-27d414d3fe87"
      },
      "source": [
        "science=int(input('What is your science grade out of 100 '))"
      ],
      "execution_count": null,
      "outputs": [
        {
          "output_type": "stream",
          "text": [
            "What is your science grade out of 100 89\n"
          ],
          "name": "stdout"
        }
      ]
    },
    {
      "cell_type": "code",
      "metadata": {
        "colab": {
          "base_uri": "https://localhost:8080/"
        },
        "id": "frHzyNlB8M49",
        "outputId": "edace727-fb7b-4995-f82b-d7cbbfc39812"
      },
      "source": [
        "reading=int(input('What is your reading grade out of 100 '))"
      ],
      "execution_count": null,
      "outputs": [
        {
          "output_type": "stream",
          "text": [
            "What is your reading grade out of 100 94\n"
          ],
          "name": "stdout"
        }
      ]
    },
    {
      "cell_type": "code",
      "metadata": {
        "colab": {
          "base_uri": "https://localhost:8080/"
        },
        "id": "IXzXgDCF8v-Y",
        "outputId": "34e6ca8d-9ed2-471d-85e5-a3c1c84b3ac0"
      },
      "source": [
        "budget=str(input(\"How much are you willing to spend per year in college \"))"
      ],
      "execution_count": null,
      "outputs": [
        {
          "output_type": "stream",
          "text": [
            "How much are you willing to spend per year in college $30,000\n"
          ],
          "name": "stdout"
        }
      ]
    },
    {
      "cell_type": "code",
      "metadata": {
        "colab": {
          "base_uri": "https://localhost:8080/"
        },
        "id": "7dbY4F989ILn",
        "outputId": "5821a885-fc0d-4a33-999b-b737dd1bd061"
      },
      "source": [
        "school=str(input('Which school are you currently in '))"
      ],
      "execution_count": null,
      "outputs": [
        {
          "output_type": "stream",
          "text": [
            "Which school are you currently in Freedom Trail Elementary\n"
          ],
          "name": "stdout"
        }
      ]
    },
    {
      "cell_type": "code",
      "metadata": {
        "colab": {
          "base_uri": "https://localhost:8080/"
        },
        "id": "rDnQewAT-AvS",
        "outputId": "c210b470-a295-40a7-ca17-6c03d88f2e9c"
      },
      "source": [
        "email=str(input('Which email can we contact you from '))"
      ],
      "execution_count": null,
      "outputs": [
        {
          "output_type": "stream",
          "text": [
            "Which email can we contact you from chhajed.vidit@gmail.com\n"
          ],
          "name": "stdout"
        }
      ]
    },
    {
      "cell_type": "code",
      "metadata": {
        "colab": {
          "base_uri": "https://localhost:8080/"
        },
        "id": "6QaF1-En-ngt",
        "outputId": "470b9ee5-01a9-4ad0-d6ac-2c912dffedba"
      },
      "source": [
        "addres=str(input('What is your current home address '))"
      ],
      "execution_count": null,
      "outputs": [
        {
          "output_type": "stream",
          "text": [
            "What is your current home address 7360 Walker Wood Blvd \n"
          ],
          "name": "stdout"
        }
      ]
    },
    {
      "cell_type": "code",
      "metadata": {
        "colab": {
          "base_uri": "https://localhost:8080/"
        },
        "id": "nTjMPiHbEUd3",
        "outputId": "032f6c69-b5a6-431a-d041-583709772996"
      },
      "source": [
        "range=int(input('How far away from home are you willing to go in miles '))"
      ],
      "execution_count": null,
      "outputs": [
        {
          "output_type": "stream",
          "text": [
            "How far away from home are you willing to go in miles 200\n"
          ],
          "name": "stdout"
        }
      ]
    },
    {
      "cell_type": "code",
      "metadata": {
        "colab": {
          "base_uri": "https://localhost:8080/"
        },
        "id": "kk3QRhdLEkXa",
        "outputId": "6f33961b-9fde-490a-ea55-c4ca16c3f06c"
      },
      "source": [
        "print('Thank you for filling out this form. We will contact you soon and start helping you')"
      ],
      "execution_count": null,
      "outputs": [
        {
          "output_type": "stream",
          "text": [
            "Thank you for filling out this form. We will contact you soon and start helping you\n"
          ],
          "name": "stdout"
        }
      ]
    },
    {
      "cell_type": "code",
      "metadata": {
        "colab": {
          "base_uri": "https://localhost:8080/"
        },
        "id": "WE5j961BExU9",
        "outputId": "a465410e-f74a-4609-bfcb-c6e94d1baa5c"
      },
      "source": [
        "print('This costumers name is',name,'.','This costumers age is',age,'.','This customers school is',school,'.','This customers email id is',email,'.','This customers addres is',addres,'.','This is how far from home the customer is willing to go in miles:',range,'.','These are the customers grades.',math,'in math.',science,'in science.',reading,'in reading.','This persons dream school is',dream,'.','This is the customers budget per year:',budget,'.')"
      ],
      "execution_count": null,
      "outputs": [
        {
          "output_type": "stream",
          "text": [
            "This costumers name is Vidit . This costumers age is 10 . This customers school is Freedom Trail Elementary . This customers email id is chhajed.vidit@gmail.com . This customers addres is 7360 Walker Wood Blvd  . This is how far from home the customer is willing to go in miles: 200 . These are the customers grades. 96 in math. 89 in science. 94 in reading. This persons dream school is Princeton University . This is the customers budget per year: $30,000 .\n"
          ],
          "name": "stdout"
        }
      ]
    },
    {
      "cell_type": "code",
      "metadata": {
        "id": "zE9zx2quJZhb"
      },
      "source": [
        ""
      ],
      "execution_count": null,
      "outputs": []
    }
  ]
}